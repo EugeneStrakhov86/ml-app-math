{
  "nbformat": 4,
  "nbformat_minor": 0,
  "metadata": {
    "colab": {
      "provenance": [],
      "authorship_tag": "ABX9TyMEmdD9OUPUgohk8vJJQ+j2",
      "include_colab_link": true
    },
    "kernelspec": {
      "name": "python3",
      "display_name": "Python 3"
    },
    "language_info": {
      "name": "python"
    }
  },
  "cells": [
    {
      "cell_type": "markdown",
      "metadata": {
        "id": "view-in-github",
        "colab_type": "text"
      },
      "source": [
        "<a href=\"https://colab.research.google.com/github/EugeneStrakhov86/ml-app-math/blob/master/My_first_Jupyter_notebook.ipynb\" target=\"_parent\"><img src=\"https://colab.research.google.com/assets/colab-badge.svg\" alt=\"Open In Colab\"/></a>"
      ]
    },
    {
      "cell_type": "code",
      "execution_count": null,
      "metadata": {
        "colab": {
          "base_uri": "https://localhost:8080/"
        },
        "id": "AtB-cD6u-w79",
        "outputId": "cee0b670-11d3-48dd-a480-fb466510e863"
      },
      "outputs": [
        {
          "output_type": "stream",
          "name": "stdout",
          "text": [
            "[1, 2, 3, 4, 5]\n"
          ]
        }
      ],
      "source": [
        "l = list(range(1, 49))\n",
        "print(l[:5])"
      ]
    },
    {
      "cell_type": "markdown",
      "source": [
        "$$\n",
        "\\int \\cos x dx = \\sin x + C\n",
        "$$\n",
        "\n",
        "Link: [kaggle](https://www.kaggle.com/)"
      ],
      "metadata": {
        "id": "PZFd9ire_BYc"
      }
    },
    {
      "cell_type": "code",
      "source": [],
      "metadata": {
        "id": "yloU58OB-63C"
      },
      "execution_count": null,
      "outputs": []
    }
  ]
}